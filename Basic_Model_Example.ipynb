{
 "cells": [
  {
   "cell_type": "code",
   "execution_count": 41,
   "metadata": {},
   "outputs": [],
   "source": [
    "\n",
    "\n",
    "class Seller:\n",
    "    id_serial = 1\n",
    "    _all = []\n",
    "    \n",
    "    def __init__(self, first, last, address, email, prime=False):\n",
    "        self.customer_id = Seller.id_serial\n",
    "        Seller.id_serial += 1\n",
    "        self.first_name = first\n",
    "        self.last_name = last\n",
    "        self.address = address\n",
    "        self.email = email\n",
    "        self.prime_member = prime\n",
    "        self.cart = []\n",
    "        Seller._all.append(self)\n",
    "        \n",
    "    def __str__(self):\n",
    "        return f'{self.first_name} {self.last_name}'\n",
    "    \n",
    "    def __repr__(self):\n",
    "        return f'<Seller {self.customer_id}|{self.first_name} {self.last_name}>'\n",
    "    \n",
    "    \n",
    "    def add_to_cart(self, prod):\n",
    "        self.cart.append(prod)\n",
    "    \n",
    "    \n",
    "    \n",
    "    \n",
    "class Product:\n",
    "    id_serial = 1\n",
    "    _all = []\n",
    "    \n",
    "    def __init__(self, name, desc, price, seller):\n",
    "        self.prod_id = Product.id_serial\n",
    "        Product.id_serial += 1\n",
    "        self.name = name\n",
    "        self.description = desc\n",
    "        self.price = price\n",
    "        self.seller = seller\n",
    "        Product._all.append(self)\n",
    "        \n",
    "    def __str__(self):\n",
    "        return f\"{self.name}\"\n",
    "    \n",
    "    def __repr__(self):\n",
    "        return f\"<Product {self.prod_id}|{self.name}>\"\n",
    "        \n",
    "        \n",
    "        \n",
    "        \n",
    "seller1 = Seller('Brian', 'Stanton', '555 Circle Drive', 'brians@ct.com')\n",
    "seller2 = Seller('Justin', 'Fields', '1450 S Lake Shore Dr', 'qb1@bears.com', True)\n",
    "prod1 = Product('Wallet', 'Keep track of your most valuable items all in one leather thing', 19.99, seller1)\n",
    "prod2 = Product('Notebook', 'Keep track of your most valuable thoughts all in one paper thing', 91.11, seller2)"
   ]
  },
  {
   "cell_type": "code",
   "execution_count": 42,
   "metadata": {},
   "outputs": [
    {
     "data": {
      "text/plain": [
       "<Seller 1|Brian Stanton>"
      ]
     },
     "execution_count": 42,
     "metadata": {},
     "output_type": "execute_result"
    }
   ],
   "source": [
    "prod1.seller"
   ]
  },
  {
   "cell_type": "code",
   "execution_count": 36,
   "metadata": {},
   "outputs": [
    {
     "data": {
      "text/plain": [
       "'\\nSELECT *\\nFROM seller\\nJOIN product\\nON seller.seller_id = product.produt_id\\nWHERE product_id = 1\\n'"
      ]
     },
     "execution_count": 36,
     "metadata": {},
     "output_type": "execute_result"
    }
   ],
   "source": [
    "'''\n",
    "SELECT *\n",
    "FROM seller\n",
    "JOIN product\n",
    "ON seller.seller_id = product.produt_id\n",
    "WHERE product_id = 1\n",
    "'''"
   ]
  },
  {
   "cell_type": "code",
   "execution_count": 38,
   "metadata": {},
   "outputs": [
    {
     "name": "stdout",
     "output_type": "stream",
     "text": [
      "What would you like to do: 1. Sign up 2. Sign inquit\n"
     ]
    }
   ],
   "source": [
    "def run():\n",
    "    while True:\n",
    "        ask = input('What would you like to do: 1. Sign up 2. Sign in').lower()\n",
    "        while ask not in {'1', '2', 'quit'}:\n",
    "            ask = input('Please answer 1 or 2 or quit')\n",
    "        if ask == 'quit':\n",
    "            break\n",
    "        elif ask == '1':\n",
    "            first = input('What is your first name?')\n",
    "            last = input('What is your last name?')\n",
    "            address = input('What is your address?')\n",
    "            email = input('What is your email?')\n",
    "            new_seller = Seller(first, last, address, email)\n",
    "        \n",
    "run()       "
   ]
  },
  {
   "cell_type": "code",
   "execution_count": 39,
   "metadata": {},
   "outputs": [
    {
     "data": {
      "text/plain": [
       "[<Seller 1|Brian Stanton>, <Seller 2|Justin Fields>, <Seller 3|bob Bib>]"
      ]
     },
     "execution_count": 39,
     "metadata": {},
     "output_type": "execute_result"
    }
   ],
   "source": [
    "Seller._all"
   ]
  },
  {
   "cell_type": "code",
   "execution_count": 40,
   "metadata": {},
   "outputs": [
    {
     "name": "stdout",
     "output_type": "stream",
     "text": [
      "brians@ct.com\n",
      "1450 S Lake Shore Dr\n",
      "324 E Eastern\n"
     ]
    }
   ],
   "source": [
    "for s in Seller._all:\n",
    "    if s.first_name == 'Brian':\n",
    "        print(s.email)\n",
    "    else:\n",
    "        print(s.address)"
   ]
  },
  {
   "cell_type": "code",
   "execution_count": 44,
   "metadata": {},
   "outputs": [],
   "source": [
    "seller1.add_to_cart(prod1)"
   ]
  },
  {
   "cell_type": "code",
   "execution_count": 45,
   "metadata": {},
   "outputs": [
    {
     "data": {
      "text/plain": [
       "[<Product 1|Wallet>]"
      ]
     },
     "execution_count": 45,
     "metadata": {},
     "output_type": "execute_result"
    }
   ],
   "source": [
    "seller1.cart"
   ]
  },
  {
   "cell_type": "code",
   "execution_count": 46,
   "metadata": {},
   "outputs": [],
   "source": [
    "seller1.add_to_cart(prod2)"
   ]
  },
  {
   "cell_type": "code",
   "execution_count": 47,
   "metadata": {},
   "outputs": [
    {
     "data": {
      "text/plain": [
       "[<Product 1|Wallet>, <Product 2|Notebook>]"
      ]
     },
     "execution_count": 47,
     "metadata": {},
     "output_type": "execute_result"
    }
   ],
   "source": [
    "seller1.cart"
   ]
  },
  {
   "cell_type": "code",
   "execution_count": 49,
   "metadata": {},
   "outputs": [],
   "source": [
    "total = 0\n",
    "for p in seller1.cart:\n",
    "    total += p.price"
   ]
  },
  {
   "cell_type": "code",
   "execution_count": 50,
   "metadata": {},
   "outputs": [
    {
     "data": {
      "text/plain": [
       "111.1"
      ]
     },
     "execution_count": 50,
     "metadata": {},
     "output_type": "execute_result"
    }
   ],
   "source": [
    "total"
   ]
  },
  {
   "cell_type": "code",
   "execution_count": null,
   "metadata": {},
   "outputs": [],
   "source": []
  }
 ],
 "metadata": {
  "kernelspec": {
   "display_name": "Python 3",
   "language": "python",
   "name": "python3"
  },
  "language_info": {
   "codemirror_mode": {
    "name": "ipython",
    "version": 3
   },
   "file_extension": ".py",
   "mimetype": "text/x-python",
   "name": "python",
   "nbconvert_exporter": "python",
   "pygments_lexer": "ipython3",
   "version": "3.8.5"
  }
 },
 "nbformat": 4,
 "nbformat_minor": 4
}
